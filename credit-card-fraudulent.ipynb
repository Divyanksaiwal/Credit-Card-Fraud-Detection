{
 "cells": [
  {
   "cell_type": "markdown",
   "id": "b2db7aac",
   "metadata": {
    "papermill": {
     "duration": 0.011695,
     "end_time": "2022-09-01T10:35:43.887218",
     "exception": false,
     "start_time": "2022-09-01T10:35:43.875523",
     "status": "completed"
    },
    "tags": []
   },
   "source": [
    "Importing the Dependencies"
   ]
  },
  {
   "cell_type": "markdown",
   "id": "eafe904c",
   "metadata": {
    "papermill": {
     "duration": 0.009284,
     "end_time": "2022-09-01T10:35:43.906650",
     "exception": false,
     "start_time": "2022-09-01T10:35:43.897366",
     "status": "completed"
    },
    "tags": []
   },
   "source": [
    "# Credit Card Fraud Detection"
   ]
  },
  {
   "cell_type": "code",
   "execution_count": 1,
   "id": "8ce1b7c0",
   "metadata": {
    "execution": {
     "iopub.execute_input": "2022-09-01T10:35:43.929271Z",
     "iopub.status.busy": "2022-09-01T10:35:43.928372Z",
     "iopub.status.idle": "2022-09-01T10:35:45.474970Z",
     "shell.execute_reply": "2022-09-01T10:35:45.473139Z"
    },
    "papermill": {
     "duration": 1.561013,
     "end_time": "2022-09-01T10:35:45.478555",
     "exception": false,
     "start_time": "2022-09-01T10:35:43.917542",
     "status": "completed"
    },
    "tags": []
   },
   "outputs": [],
   "source": [
    "import numpy as np\n",
    "import pandas as pd\n",
    "from sklearn.model_selection import train_test_split\n",
    "from sklearn.linear_model import LogisticRegression\n",
    "from sklearn.metrics import accuracy_score \n"
   ]
  },
  {
   "cell_type": "code",
   "execution_count": 2,
   "id": "eff23844",
   "metadata": {
    "execution": {
     "iopub.execute_input": "2022-09-01T10:35:45.499672Z",
     "iopub.status.busy": "2022-09-01T10:35:45.498435Z",
     "iopub.status.idle": "2022-09-01T10:35:50.054707Z",
     "shell.execute_reply": "2022-09-01T10:35:50.053149Z"
    },
    "papermill": {
     "duration": 4.569618,
     "end_time": "2022-09-01T10:35:50.057616",
     "exception": false,
     "start_time": "2022-09-01T10:35:45.487998",
     "status": "completed"
    },
    "tags": []
   },
   "outputs": [],
   "source": [
    "# loadin the dataset \n",
    "credit_card_data = pd.read_csv('../input/creditcardfraud/creditcard.csv')\n",
    "\n"
   ]
  },
  {
   "cell_type": "code",
   "execution_count": 3,
   "id": "60787b08",
   "metadata": {
    "execution": {
     "iopub.execute_input": "2022-09-01T10:35:50.077211Z",
     "iopub.status.busy": "2022-09-01T10:35:50.076794Z",
     "iopub.status.idle": "2022-09-01T10:35:50.124175Z",
     "shell.execute_reply": "2022-09-01T10:35:50.122850Z"
    },
    "papermill": {
     "duration": 0.060541,
     "end_time": "2022-09-01T10:35:50.127256",
     "exception": false,
     "start_time": "2022-09-01T10:35:50.066715",
     "status": "completed"
    },
    "tags": []
   },
   "outputs": [
    {
     "data": {
      "text/html": [
       "<div>\n",
       "<style scoped>\n",
       "    .dataframe tbody tr th:only-of-type {\n",
       "        vertical-align: middle;\n",
       "    }\n",
       "\n",
       "    .dataframe tbody tr th {\n",
       "        vertical-align: top;\n",
       "    }\n",
       "\n",
       "    .dataframe thead th {\n",
       "        text-align: right;\n",
       "    }\n",
       "</style>\n",
       "<table border=\"1\" class=\"dataframe\">\n",
       "  <thead>\n",
       "    <tr style=\"text-align: right;\">\n",
       "      <th></th>\n",
       "      <th>Time</th>\n",
       "      <th>V1</th>\n",
       "      <th>V2</th>\n",
       "      <th>V3</th>\n",
       "      <th>V4</th>\n",
       "      <th>V5</th>\n",
       "      <th>V6</th>\n",
       "      <th>V7</th>\n",
       "      <th>V8</th>\n",
       "      <th>V9</th>\n",
       "      <th>...</th>\n",
       "      <th>V21</th>\n",
       "      <th>V22</th>\n",
       "      <th>V23</th>\n",
       "      <th>V24</th>\n",
       "      <th>V25</th>\n",
       "      <th>V26</th>\n",
       "      <th>V27</th>\n",
       "      <th>V28</th>\n",
       "      <th>Amount</th>\n",
       "      <th>Class</th>\n",
       "    </tr>\n",
       "  </thead>\n",
       "  <tbody>\n",
       "    <tr>\n",
       "      <th>0</th>\n",
       "      <td>0.0</td>\n",
       "      <td>-1.359807</td>\n",
       "      <td>-0.072781</td>\n",
       "      <td>2.536347</td>\n",
       "      <td>1.378155</td>\n",
       "      <td>-0.338321</td>\n",
       "      <td>0.462388</td>\n",
       "      <td>0.239599</td>\n",
       "      <td>0.098698</td>\n",
       "      <td>0.363787</td>\n",
       "      <td>...</td>\n",
       "      <td>-0.018307</td>\n",
       "      <td>0.277838</td>\n",
       "      <td>-0.110474</td>\n",
       "      <td>0.066928</td>\n",
       "      <td>0.128539</td>\n",
       "      <td>-0.189115</td>\n",
       "      <td>0.133558</td>\n",
       "      <td>-0.021053</td>\n",
       "      <td>149.62</td>\n",
       "      <td>0</td>\n",
       "    </tr>\n",
       "    <tr>\n",
       "      <th>1</th>\n",
       "      <td>0.0</td>\n",
       "      <td>1.191857</td>\n",
       "      <td>0.266151</td>\n",
       "      <td>0.166480</td>\n",
       "      <td>0.448154</td>\n",
       "      <td>0.060018</td>\n",
       "      <td>-0.082361</td>\n",
       "      <td>-0.078803</td>\n",
       "      <td>0.085102</td>\n",
       "      <td>-0.255425</td>\n",
       "      <td>...</td>\n",
       "      <td>-0.225775</td>\n",
       "      <td>-0.638672</td>\n",
       "      <td>0.101288</td>\n",
       "      <td>-0.339846</td>\n",
       "      <td>0.167170</td>\n",
       "      <td>0.125895</td>\n",
       "      <td>-0.008983</td>\n",
       "      <td>0.014724</td>\n",
       "      <td>2.69</td>\n",
       "      <td>0</td>\n",
       "    </tr>\n",
       "    <tr>\n",
       "      <th>2</th>\n",
       "      <td>1.0</td>\n",
       "      <td>-1.358354</td>\n",
       "      <td>-1.340163</td>\n",
       "      <td>1.773209</td>\n",
       "      <td>0.379780</td>\n",
       "      <td>-0.503198</td>\n",
       "      <td>1.800499</td>\n",
       "      <td>0.791461</td>\n",
       "      <td>0.247676</td>\n",
       "      <td>-1.514654</td>\n",
       "      <td>...</td>\n",
       "      <td>0.247998</td>\n",
       "      <td>0.771679</td>\n",
       "      <td>0.909412</td>\n",
       "      <td>-0.689281</td>\n",
       "      <td>-0.327642</td>\n",
       "      <td>-0.139097</td>\n",
       "      <td>-0.055353</td>\n",
       "      <td>-0.059752</td>\n",
       "      <td>378.66</td>\n",
       "      <td>0</td>\n",
       "    </tr>\n",
       "    <tr>\n",
       "      <th>3</th>\n",
       "      <td>1.0</td>\n",
       "      <td>-0.966272</td>\n",
       "      <td>-0.185226</td>\n",
       "      <td>1.792993</td>\n",
       "      <td>-0.863291</td>\n",
       "      <td>-0.010309</td>\n",
       "      <td>1.247203</td>\n",
       "      <td>0.237609</td>\n",
       "      <td>0.377436</td>\n",
       "      <td>-1.387024</td>\n",
       "      <td>...</td>\n",
       "      <td>-0.108300</td>\n",
       "      <td>0.005274</td>\n",
       "      <td>-0.190321</td>\n",
       "      <td>-1.175575</td>\n",
       "      <td>0.647376</td>\n",
       "      <td>-0.221929</td>\n",
       "      <td>0.062723</td>\n",
       "      <td>0.061458</td>\n",
       "      <td>123.50</td>\n",
       "      <td>0</td>\n",
       "    </tr>\n",
       "    <tr>\n",
       "      <th>4</th>\n",
       "      <td>2.0</td>\n",
       "      <td>-1.158233</td>\n",
       "      <td>0.877737</td>\n",
       "      <td>1.548718</td>\n",
       "      <td>0.403034</td>\n",
       "      <td>-0.407193</td>\n",
       "      <td>0.095921</td>\n",
       "      <td>0.592941</td>\n",
       "      <td>-0.270533</td>\n",
       "      <td>0.817739</td>\n",
       "      <td>...</td>\n",
       "      <td>-0.009431</td>\n",
       "      <td>0.798278</td>\n",
       "      <td>-0.137458</td>\n",
       "      <td>0.141267</td>\n",
       "      <td>-0.206010</td>\n",
       "      <td>0.502292</td>\n",
       "      <td>0.219422</td>\n",
       "      <td>0.215153</td>\n",
       "      <td>69.99</td>\n",
       "      <td>0</td>\n",
       "    </tr>\n",
       "  </tbody>\n",
       "</table>\n",
       "<p>5 rows × 31 columns</p>\n",
       "</div>"
      ],
      "text/plain": [
       "   Time        V1        V2        V3        V4        V5        V6        V7  \\\n",
       "0   0.0 -1.359807 -0.072781  2.536347  1.378155 -0.338321  0.462388  0.239599   \n",
       "1   0.0  1.191857  0.266151  0.166480  0.448154  0.060018 -0.082361 -0.078803   \n",
       "2   1.0 -1.358354 -1.340163  1.773209  0.379780 -0.503198  1.800499  0.791461   \n",
       "3   1.0 -0.966272 -0.185226  1.792993 -0.863291 -0.010309  1.247203  0.237609   \n",
       "4   2.0 -1.158233  0.877737  1.548718  0.403034 -0.407193  0.095921  0.592941   \n",
       "\n",
       "         V8        V9  ...       V21       V22       V23       V24       V25  \\\n",
       "0  0.098698  0.363787  ... -0.018307  0.277838 -0.110474  0.066928  0.128539   \n",
       "1  0.085102 -0.255425  ... -0.225775 -0.638672  0.101288 -0.339846  0.167170   \n",
       "2  0.247676 -1.514654  ...  0.247998  0.771679  0.909412 -0.689281 -0.327642   \n",
       "3  0.377436 -1.387024  ... -0.108300  0.005274 -0.190321 -1.175575  0.647376   \n",
       "4 -0.270533  0.817739  ... -0.009431  0.798278 -0.137458  0.141267 -0.206010   \n",
       "\n",
       "        V26       V27       V28  Amount  Class  \n",
       "0 -0.189115  0.133558 -0.021053  149.62      0  \n",
       "1  0.125895 -0.008983  0.014724    2.69      0  \n",
       "2 -0.139097 -0.055353 -0.059752  378.66      0  \n",
       "3 -0.221929  0.062723  0.061458  123.50      0  \n",
       "4  0.502292  0.219422  0.215153   69.99      0  \n",
       "\n",
       "[5 rows x 31 columns]"
      ]
     },
     "execution_count": 3,
     "metadata": {},
     "output_type": "execute_result"
    }
   ],
   "source": [
    "credit_card_data.head()"
   ]
  },
  {
   "cell_type": "code",
   "execution_count": 4,
   "id": "583c573a",
   "metadata": {
    "execution": {
     "iopub.execute_input": "2022-09-01T10:35:50.148178Z",
     "iopub.status.busy": "2022-09-01T10:35:50.147773Z",
     "iopub.status.idle": "2022-09-01T10:35:50.175935Z",
     "shell.execute_reply": "2022-09-01T10:35:50.174737Z"
    },
    "papermill": {
     "duration": 0.041419,
     "end_time": "2022-09-01T10:35:50.178520",
     "exception": false,
     "start_time": "2022-09-01T10:35:50.137101",
     "status": "completed"
    },
    "tags": []
   },
   "outputs": [
    {
     "data": {
      "text/html": [
       "<div>\n",
       "<style scoped>\n",
       "    .dataframe tbody tr th:only-of-type {\n",
       "        vertical-align: middle;\n",
       "    }\n",
       "\n",
       "    .dataframe tbody tr th {\n",
       "        vertical-align: top;\n",
       "    }\n",
       "\n",
       "    .dataframe thead th {\n",
       "        text-align: right;\n",
       "    }\n",
       "</style>\n",
       "<table border=\"1\" class=\"dataframe\">\n",
       "  <thead>\n",
       "    <tr style=\"text-align: right;\">\n",
       "      <th></th>\n",
       "      <th>Time</th>\n",
       "      <th>V1</th>\n",
       "      <th>V2</th>\n",
       "      <th>V3</th>\n",
       "      <th>V4</th>\n",
       "      <th>V5</th>\n",
       "      <th>V6</th>\n",
       "      <th>V7</th>\n",
       "      <th>V8</th>\n",
       "      <th>V9</th>\n",
       "      <th>...</th>\n",
       "      <th>V21</th>\n",
       "      <th>V22</th>\n",
       "      <th>V23</th>\n",
       "      <th>V24</th>\n",
       "      <th>V25</th>\n",
       "      <th>V26</th>\n",
       "      <th>V27</th>\n",
       "      <th>V28</th>\n",
       "      <th>Amount</th>\n",
       "      <th>Class</th>\n",
       "    </tr>\n",
       "  </thead>\n",
       "  <tbody>\n",
       "    <tr>\n",
       "      <th>284802</th>\n",
       "      <td>172786.0</td>\n",
       "      <td>-11.881118</td>\n",
       "      <td>10.071785</td>\n",
       "      <td>-9.834783</td>\n",
       "      <td>-2.066656</td>\n",
       "      <td>-5.364473</td>\n",
       "      <td>-2.606837</td>\n",
       "      <td>-4.918215</td>\n",
       "      <td>7.305334</td>\n",
       "      <td>1.914428</td>\n",
       "      <td>...</td>\n",
       "      <td>0.213454</td>\n",
       "      <td>0.111864</td>\n",
       "      <td>1.014480</td>\n",
       "      <td>-0.509348</td>\n",
       "      <td>1.436807</td>\n",
       "      <td>0.250034</td>\n",
       "      <td>0.943651</td>\n",
       "      <td>0.823731</td>\n",
       "      <td>0.77</td>\n",
       "      <td>0</td>\n",
       "    </tr>\n",
       "    <tr>\n",
       "      <th>284803</th>\n",
       "      <td>172787.0</td>\n",
       "      <td>-0.732789</td>\n",
       "      <td>-0.055080</td>\n",
       "      <td>2.035030</td>\n",
       "      <td>-0.738589</td>\n",
       "      <td>0.868229</td>\n",
       "      <td>1.058415</td>\n",
       "      <td>0.024330</td>\n",
       "      <td>0.294869</td>\n",
       "      <td>0.584800</td>\n",
       "      <td>...</td>\n",
       "      <td>0.214205</td>\n",
       "      <td>0.924384</td>\n",
       "      <td>0.012463</td>\n",
       "      <td>-1.016226</td>\n",
       "      <td>-0.606624</td>\n",
       "      <td>-0.395255</td>\n",
       "      <td>0.068472</td>\n",
       "      <td>-0.053527</td>\n",
       "      <td>24.79</td>\n",
       "      <td>0</td>\n",
       "    </tr>\n",
       "    <tr>\n",
       "      <th>284804</th>\n",
       "      <td>172788.0</td>\n",
       "      <td>1.919565</td>\n",
       "      <td>-0.301254</td>\n",
       "      <td>-3.249640</td>\n",
       "      <td>-0.557828</td>\n",
       "      <td>2.630515</td>\n",
       "      <td>3.031260</td>\n",
       "      <td>-0.296827</td>\n",
       "      <td>0.708417</td>\n",
       "      <td>0.432454</td>\n",
       "      <td>...</td>\n",
       "      <td>0.232045</td>\n",
       "      <td>0.578229</td>\n",
       "      <td>-0.037501</td>\n",
       "      <td>0.640134</td>\n",
       "      <td>0.265745</td>\n",
       "      <td>-0.087371</td>\n",
       "      <td>0.004455</td>\n",
       "      <td>-0.026561</td>\n",
       "      <td>67.88</td>\n",
       "      <td>0</td>\n",
       "    </tr>\n",
       "    <tr>\n",
       "      <th>284805</th>\n",
       "      <td>172788.0</td>\n",
       "      <td>-0.240440</td>\n",
       "      <td>0.530483</td>\n",
       "      <td>0.702510</td>\n",
       "      <td>0.689799</td>\n",
       "      <td>-0.377961</td>\n",
       "      <td>0.623708</td>\n",
       "      <td>-0.686180</td>\n",
       "      <td>0.679145</td>\n",
       "      <td>0.392087</td>\n",
       "      <td>...</td>\n",
       "      <td>0.265245</td>\n",
       "      <td>0.800049</td>\n",
       "      <td>-0.163298</td>\n",
       "      <td>0.123205</td>\n",
       "      <td>-0.569159</td>\n",
       "      <td>0.546668</td>\n",
       "      <td>0.108821</td>\n",
       "      <td>0.104533</td>\n",
       "      <td>10.00</td>\n",
       "      <td>0</td>\n",
       "    </tr>\n",
       "    <tr>\n",
       "      <th>284806</th>\n",
       "      <td>172792.0</td>\n",
       "      <td>-0.533413</td>\n",
       "      <td>-0.189733</td>\n",
       "      <td>0.703337</td>\n",
       "      <td>-0.506271</td>\n",
       "      <td>-0.012546</td>\n",
       "      <td>-0.649617</td>\n",
       "      <td>1.577006</td>\n",
       "      <td>-0.414650</td>\n",
       "      <td>0.486180</td>\n",
       "      <td>...</td>\n",
       "      <td>0.261057</td>\n",
       "      <td>0.643078</td>\n",
       "      <td>0.376777</td>\n",
       "      <td>0.008797</td>\n",
       "      <td>-0.473649</td>\n",
       "      <td>-0.818267</td>\n",
       "      <td>-0.002415</td>\n",
       "      <td>0.013649</td>\n",
       "      <td>217.00</td>\n",
       "      <td>0</td>\n",
       "    </tr>\n",
       "  </tbody>\n",
       "</table>\n",
       "<p>5 rows × 31 columns</p>\n",
       "</div>"
      ],
      "text/plain": [
       "            Time         V1         V2        V3        V4        V5  \\\n",
       "284802  172786.0 -11.881118  10.071785 -9.834783 -2.066656 -5.364473   \n",
       "284803  172787.0  -0.732789  -0.055080  2.035030 -0.738589  0.868229   \n",
       "284804  172788.0   1.919565  -0.301254 -3.249640 -0.557828  2.630515   \n",
       "284805  172788.0  -0.240440   0.530483  0.702510  0.689799 -0.377961   \n",
       "284806  172792.0  -0.533413  -0.189733  0.703337 -0.506271 -0.012546   \n",
       "\n",
       "              V6        V7        V8        V9  ...       V21       V22  \\\n",
       "284802 -2.606837 -4.918215  7.305334  1.914428  ...  0.213454  0.111864   \n",
       "284803  1.058415  0.024330  0.294869  0.584800  ...  0.214205  0.924384   \n",
       "284804  3.031260 -0.296827  0.708417  0.432454  ...  0.232045  0.578229   \n",
       "284805  0.623708 -0.686180  0.679145  0.392087  ...  0.265245  0.800049   \n",
       "284806 -0.649617  1.577006 -0.414650  0.486180  ...  0.261057  0.643078   \n",
       "\n",
       "             V23       V24       V25       V26       V27       V28  Amount  \\\n",
       "284802  1.014480 -0.509348  1.436807  0.250034  0.943651  0.823731    0.77   \n",
       "284803  0.012463 -1.016226 -0.606624 -0.395255  0.068472 -0.053527   24.79   \n",
       "284804 -0.037501  0.640134  0.265745 -0.087371  0.004455 -0.026561   67.88   \n",
       "284805 -0.163298  0.123205 -0.569159  0.546668  0.108821  0.104533   10.00   \n",
       "284806  0.376777  0.008797 -0.473649 -0.818267 -0.002415  0.013649  217.00   \n",
       "\n",
       "        Class  \n",
       "284802      0  \n",
       "284803      0  \n",
       "284804      0  \n",
       "284805      0  \n",
       "284806      0  \n",
       "\n",
       "[5 rows x 31 columns]"
      ]
     },
     "execution_count": 4,
     "metadata": {},
     "output_type": "execute_result"
    }
   ],
   "source": [
    "credit_card_data.tail()"
   ]
  },
  {
   "cell_type": "code",
   "execution_count": 5,
   "id": "e4811941",
   "metadata": {
    "execution": {
     "iopub.execute_input": "2022-09-01T10:35:50.200483Z",
     "iopub.status.busy": "2022-09-01T10:35:50.200023Z",
     "iopub.status.idle": "2022-09-01T10:35:50.251625Z",
     "shell.execute_reply": "2022-09-01T10:35:50.248682Z"
    },
    "papermill": {
     "duration": 0.066155,
     "end_time": "2022-09-01T10:35:50.255046",
     "exception": false,
     "start_time": "2022-09-01T10:35:50.188891",
     "status": "completed"
    },
    "tags": []
   },
   "outputs": [
    {
     "name": "stdout",
     "output_type": "stream",
     "text": [
      "<class 'pandas.core.frame.DataFrame'>\n",
      "RangeIndex: 284807 entries, 0 to 284806\n",
      "Data columns (total 31 columns):\n",
      " #   Column  Non-Null Count   Dtype  \n",
      "---  ------  --------------   -----  \n",
      " 0   Time    284807 non-null  float64\n",
      " 1   V1      284807 non-null  float64\n",
      " 2   V2      284807 non-null  float64\n",
      " 3   V3      284807 non-null  float64\n",
      " 4   V4      284807 non-null  float64\n",
      " 5   V5      284807 non-null  float64\n",
      " 6   V6      284807 non-null  float64\n",
      " 7   V7      284807 non-null  float64\n",
      " 8   V8      284807 non-null  float64\n",
      " 9   V9      284807 non-null  float64\n",
      " 10  V10     284807 non-null  float64\n",
      " 11  V11     284807 non-null  float64\n",
      " 12  V12     284807 non-null  float64\n",
      " 13  V13     284807 non-null  float64\n",
      " 14  V14     284807 non-null  float64\n",
      " 15  V15     284807 non-null  float64\n",
      " 16  V16     284807 non-null  float64\n",
      " 17  V17     284807 non-null  float64\n",
      " 18  V18     284807 non-null  float64\n",
      " 19  V19     284807 non-null  float64\n",
      " 20  V20     284807 non-null  float64\n",
      " 21  V21     284807 non-null  float64\n",
      " 22  V22     284807 non-null  float64\n",
      " 23  V23     284807 non-null  float64\n",
      " 24  V24     284807 non-null  float64\n",
      " 25  V25     284807 non-null  float64\n",
      " 26  V26     284807 non-null  float64\n",
      " 27  V27     284807 non-null  float64\n",
      " 28  V28     284807 non-null  float64\n",
      " 29  Amount  284807 non-null  float64\n",
      " 30  Class   284807 non-null  int64  \n",
      "dtypes: float64(30), int64(1)\n",
      "memory usage: 67.4 MB\n"
     ]
    }
   ],
   "source": [
    "credit_card_data.info()"
   ]
  },
  {
   "cell_type": "markdown",
   "id": "daaaf71f",
   "metadata": {
    "papermill": {
     "duration": 0.009742,
     "end_time": "2022-09-01T10:35:50.275547",
     "exception": false,
     "start_time": "2022-09-01T10:35:50.265805",
     "status": "completed"
    },
    "tags": []
   },
   "source": [
    "Checking no. of missing values in our data"
   ]
  },
  {
   "cell_type": "code",
   "execution_count": 6,
   "id": "cb068b66",
   "metadata": {
    "execution": {
     "iopub.execute_input": "2022-09-01T10:35:50.296751Z",
     "iopub.status.busy": "2022-09-01T10:35:50.296318Z",
     "iopub.status.idle": "2022-09-01T10:35:50.323644Z",
     "shell.execute_reply": "2022-09-01T10:35:50.322490Z"
    },
    "papermill": {
     "duration": 0.04097,
     "end_time": "2022-09-01T10:35:50.326255",
     "exception": false,
     "start_time": "2022-09-01T10:35:50.285285",
     "status": "completed"
    },
    "tags": []
   },
   "outputs": [
    {
     "data": {
      "text/plain": [
       "Time      0\n",
       "V1        0\n",
       "V2        0\n",
       "V3        0\n",
       "V4        0\n",
       "V5        0\n",
       "V6        0\n",
       "V7        0\n",
       "V8        0\n",
       "V9        0\n",
       "V10       0\n",
       "V11       0\n",
       "V12       0\n",
       "V13       0\n",
       "V14       0\n",
       "V15       0\n",
       "V16       0\n",
       "V17       0\n",
       "V18       0\n",
       "V19       0\n",
       "V20       0\n",
       "V21       0\n",
       "V22       0\n",
       "V23       0\n",
       "V24       0\n",
       "V25       0\n",
       "V26       0\n",
       "V27       0\n",
       "V28       0\n",
       "Amount    0\n",
       "Class     0\n",
       "dtype: int64"
      ]
     },
     "execution_count": 6,
     "metadata": {},
     "output_type": "execute_result"
    }
   ],
   "source": [
    "credit_card_data.isnull().sum()"
   ]
  },
  {
   "cell_type": "code",
   "execution_count": 7,
   "id": "9c6a3ac5",
   "metadata": {
    "execution": {
     "iopub.execute_input": "2022-09-01T10:35:50.347721Z",
     "iopub.status.busy": "2022-09-01T10:35:50.347314Z",
     "iopub.status.idle": "2022-09-01T10:35:50.358813Z",
     "shell.execute_reply": "2022-09-01T10:35:50.357608Z"
    },
    "papermill": {
     "duration": 0.025116,
     "end_time": "2022-09-01T10:35:50.361141",
     "exception": false,
     "start_time": "2022-09-01T10:35:50.336025",
     "status": "completed"
    },
    "tags": []
   },
   "outputs": [
    {
     "data": {
      "text/plain": [
       "0    284315\n",
       "1       492\n",
       "Name: Class, dtype: int64"
      ]
     },
     "execution_count": 7,
     "metadata": {},
     "output_type": "execute_result"
    }
   ],
   "source": [
    "#distribution of legit transaction and fraudlent transaction\n",
    "credit_card_data['Class'].value_counts()"
   ]
  },
  {
   "cell_type": "markdown",
   "id": "37aa442d",
   "metadata": {
    "papermill": {
     "duration": 0.009451,
     "end_time": "2022-09-01T10:35:50.380396",
     "exception": false,
     "start_time": "2022-09-01T10:35:50.370945",
     "status": "completed"
    },
    "tags": []
   },
   "source": [
    "This dataset is highly unbalanced"
   ]
  },
  {
   "cell_type": "markdown",
   "id": "7ad126af",
   "metadata": {
    "papermill": {
     "duration": 0.009478,
     "end_time": "2022-09-01T10:35:50.399714",
     "exception": false,
     "start_time": "2022-09-01T10:35:50.390236",
     "status": "completed"
    },
    "tags": []
   },
   "source": [
    "0 --> Normal Transaction \n",
    "\n",
    "1 --> Fraudelent Transaction"
   ]
  },
  {
   "cell_type": "code",
   "execution_count": 8,
   "id": "896f464d",
   "metadata": {
    "execution": {
     "iopub.execute_input": "2022-09-01T10:35:50.421380Z",
     "iopub.status.busy": "2022-09-01T10:35:50.420969Z",
     "iopub.status.idle": "2022-09-01T10:35:50.485098Z",
     "shell.execute_reply": "2022-09-01T10:35:50.483687Z"
    },
    "papermill": {
     "duration": 0.078952,
     "end_time": "2022-09-01T10:35:50.488498",
     "exception": false,
     "start_time": "2022-09-01T10:35:50.409546",
     "status": "completed"
    },
    "tags": []
   },
   "outputs": [],
   "source": [
    "# separating the data for analysis\n",
    "legit = credit_card_data[credit_card_data.Class == 0]\n",
    "fraud = credit_card_data[credit_card_data.Class == 1]"
   ]
  },
  {
   "cell_type": "code",
   "execution_count": 9,
   "id": "cd928127",
   "metadata": {
    "execution": {
     "iopub.execute_input": "2022-09-01T10:35:50.510075Z",
     "iopub.status.busy": "2022-09-01T10:35:50.509681Z",
     "iopub.status.idle": "2022-09-01T10:35:50.515813Z",
     "shell.execute_reply": "2022-09-01T10:35:50.514247Z"
    },
    "papermill": {
     "duration": 0.019844,
     "end_time": "2022-09-01T10:35:50.518473",
     "exception": false,
     "start_time": "2022-09-01T10:35:50.498629",
     "status": "completed"
    },
    "tags": []
   },
   "outputs": [
    {
     "name": "stdout",
     "output_type": "stream",
     "text": [
      "(284315, 31)\n",
      "(492, 31)\n"
     ]
    }
   ],
   "source": [
    "print(legit.shape)\n",
    "print(fraud.shape)"
   ]
  },
  {
   "cell_type": "code",
   "execution_count": 10,
   "id": "37f4855f",
   "metadata": {
    "execution": {
     "iopub.execute_input": "2022-09-01T10:35:50.540073Z",
     "iopub.status.busy": "2022-09-01T10:35:50.539670Z",
     "iopub.status.idle": "2022-09-01T10:35:50.566872Z",
     "shell.execute_reply": "2022-09-01T10:35:50.565916Z"
    },
    "papermill": {
     "duration": 0.040885,
     "end_time": "2022-09-01T10:35:50.569359",
     "exception": false,
     "start_time": "2022-09-01T10:35:50.528474",
     "status": "completed"
    },
    "tags": []
   },
   "outputs": [
    {
     "data": {
      "text/plain": [
       "count    284315.000000\n",
       "mean         88.291022\n",
       "std         250.105092\n",
       "min           0.000000\n",
       "25%           5.650000\n",
       "50%          22.000000\n",
       "75%          77.050000\n",
       "max       25691.160000\n",
       "Name: Amount, dtype: float64"
      ]
     },
     "execution_count": 10,
     "metadata": {},
     "output_type": "execute_result"
    }
   ],
   "source": [
    "# statistical measures of the data\n",
    "legit['Amount'].describe()"
   ]
  },
  {
   "cell_type": "code",
   "execution_count": 11,
   "id": "a6577b2e",
   "metadata": {
    "execution": {
     "iopub.execute_input": "2022-09-01T10:35:50.591718Z",
     "iopub.status.busy": "2022-09-01T10:35:50.591287Z",
     "iopub.status.idle": "2022-09-01T10:35:50.603937Z",
     "shell.execute_reply": "2022-09-01T10:35:50.602648Z"
    },
    "papermill": {
     "duration": 0.026893,
     "end_time": "2022-09-01T10:35:50.606676",
     "exception": false,
     "start_time": "2022-09-01T10:35:50.579783",
     "status": "completed"
    },
    "tags": []
   },
   "outputs": [
    {
     "data": {
      "text/plain": [
       "count     492.000000\n",
       "mean      122.211321\n",
       "std       256.683288\n",
       "min         0.000000\n",
       "25%         1.000000\n",
       "50%         9.250000\n",
       "75%       105.890000\n",
       "max      2125.870000\n",
       "Name: Amount, dtype: float64"
      ]
     },
     "execution_count": 11,
     "metadata": {},
     "output_type": "execute_result"
    }
   ],
   "source": [
    "fraud['Amount'].describe()"
   ]
  },
  {
   "cell_type": "code",
   "execution_count": 12,
   "id": "5f0b68c7",
   "metadata": {
    "execution": {
     "iopub.execute_input": "2022-09-01T10:35:50.629711Z",
     "iopub.status.busy": "2022-09-01T10:35:50.628879Z",
     "iopub.status.idle": "2022-09-01T10:35:50.768323Z",
     "shell.execute_reply": "2022-09-01T10:35:50.766668Z"
    },
    "papermill": {
     "duration": 0.154048,
     "end_time": "2022-09-01T10:35:50.771188",
     "exception": false,
     "start_time": "2022-09-01T10:35:50.617140",
     "status": "completed"
    },
    "tags": []
   },
   "outputs": [
    {
     "data": {
      "text/html": [
       "<div>\n",
       "<style scoped>\n",
       "    .dataframe tbody tr th:only-of-type {\n",
       "        vertical-align: middle;\n",
       "    }\n",
       "\n",
       "    .dataframe tbody tr th {\n",
       "        vertical-align: top;\n",
       "    }\n",
       "\n",
       "    .dataframe thead th {\n",
       "        text-align: right;\n",
       "    }\n",
       "</style>\n",
       "<table border=\"1\" class=\"dataframe\">\n",
       "  <thead>\n",
       "    <tr style=\"text-align: right;\">\n",
       "      <th></th>\n",
       "      <th>Time</th>\n",
       "      <th>V1</th>\n",
       "      <th>V2</th>\n",
       "      <th>V3</th>\n",
       "      <th>V4</th>\n",
       "      <th>V5</th>\n",
       "      <th>V6</th>\n",
       "      <th>V7</th>\n",
       "      <th>V8</th>\n",
       "      <th>V9</th>\n",
       "      <th>...</th>\n",
       "      <th>V20</th>\n",
       "      <th>V21</th>\n",
       "      <th>V22</th>\n",
       "      <th>V23</th>\n",
       "      <th>V24</th>\n",
       "      <th>V25</th>\n",
       "      <th>V26</th>\n",
       "      <th>V27</th>\n",
       "      <th>V28</th>\n",
       "      <th>Amount</th>\n",
       "    </tr>\n",
       "    <tr>\n",
       "      <th>Class</th>\n",
       "      <th></th>\n",
       "      <th></th>\n",
       "      <th></th>\n",
       "      <th></th>\n",
       "      <th></th>\n",
       "      <th></th>\n",
       "      <th></th>\n",
       "      <th></th>\n",
       "      <th></th>\n",
       "      <th></th>\n",
       "      <th></th>\n",
       "      <th></th>\n",
       "      <th></th>\n",
       "      <th></th>\n",
       "      <th></th>\n",
       "      <th></th>\n",
       "      <th></th>\n",
       "      <th></th>\n",
       "      <th></th>\n",
       "      <th></th>\n",
       "      <th></th>\n",
       "    </tr>\n",
       "  </thead>\n",
       "  <tbody>\n",
       "    <tr>\n",
       "      <th>0</th>\n",
       "      <td>94838.202258</td>\n",
       "      <td>0.008258</td>\n",
       "      <td>-0.006271</td>\n",
       "      <td>0.012171</td>\n",
       "      <td>-0.007860</td>\n",
       "      <td>0.005453</td>\n",
       "      <td>0.002419</td>\n",
       "      <td>0.009637</td>\n",
       "      <td>-0.000987</td>\n",
       "      <td>0.004467</td>\n",
       "      <td>...</td>\n",
       "      <td>-0.000644</td>\n",
       "      <td>-0.001235</td>\n",
       "      <td>-0.000024</td>\n",
       "      <td>0.000070</td>\n",
       "      <td>0.000182</td>\n",
       "      <td>-0.000072</td>\n",
       "      <td>-0.000089</td>\n",
       "      <td>-0.000295</td>\n",
       "      <td>-0.000131</td>\n",
       "      <td>88.291022</td>\n",
       "    </tr>\n",
       "    <tr>\n",
       "      <th>1</th>\n",
       "      <td>80746.806911</td>\n",
       "      <td>-4.771948</td>\n",
       "      <td>3.623778</td>\n",
       "      <td>-7.033281</td>\n",
       "      <td>4.542029</td>\n",
       "      <td>-3.151225</td>\n",
       "      <td>-1.397737</td>\n",
       "      <td>-5.568731</td>\n",
       "      <td>0.570636</td>\n",
       "      <td>-2.581123</td>\n",
       "      <td>...</td>\n",
       "      <td>0.372319</td>\n",
       "      <td>0.713588</td>\n",
       "      <td>0.014049</td>\n",
       "      <td>-0.040308</td>\n",
       "      <td>-0.105130</td>\n",
       "      <td>0.041449</td>\n",
       "      <td>0.051648</td>\n",
       "      <td>0.170575</td>\n",
       "      <td>0.075667</td>\n",
       "      <td>122.211321</td>\n",
       "    </tr>\n",
       "  </tbody>\n",
       "</table>\n",
       "<p>2 rows × 30 columns</p>\n",
       "</div>"
      ],
      "text/plain": [
       "               Time        V1        V2        V3        V4        V5  \\\n",
       "Class                                                                   \n",
       "0      94838.202258  0.008258 -0.006271  0.012171 -0.007860  0.005453   \n",
       "1      80746.806911 -4.771948  3.623778 -7.033281  4.542029 -3.151225   \n",
       "\n",
       "             V6        V7        V8        V9  ...       V20       V21  \\\n",
       "Class                                          ...                       \n",
       "0      0.002419  0.009637 -0.000987  0.004467  ... -0.000644 -0.001235   \n",
       "1     -1.397737 -5.568731  0.570636 -2.581123  ...  0.372319  0.713588   \n",
       "\n",
       "            V22       V23       V24       V25       V26       V27       V28  \\\n",
       "Class                                                                         \n",
       "0     -0.000024  0.000070  0.000182 -0.000072 -0.000089 -0.000295 -0.000131   \n",
       "1      0.014049 -0.040308 -0.105130  0.041449  0.051648  0.170575  0.075667   \n",
       "\n",
       "           Amount  \n",
       "Class              \n",
       "0       88.291022  \n",
       "1      122.211321  \n",
       "\n",
       "[2 rows x 30 columns]"
      ]
     },
     "execution_count": 12,
     "metadata": {},
     "output_type": "execute_result"
    }
   ],
   "source": [
    "# Compare the values for both transactions\n",
    "credit_card_data.groupby('Class').mean()\n"
   ]
  },
  {
   "cell_type": "markdown",
   "id": "a3e57e2f",
   "metadata": {
    "papermill": {
     "duration": 0.011204,
     "end_time": "2022-09-01T10:35:50.793083",
     "exception": false,
     "start_time": "2022-09-01T10:35:50.781879",
     "status": "completed"
    },
    "tags": []
   },
   "source": [
    "Under Sampling "
   ]
  },
  {
   "cell_type": "markdown",
   "id": "4f08359b",
   "metadata": {
    "papermill": {
     "duration": 0.010426,
     "end_time": "2022-09-01T10:35:50.816227",
     "exception": false,
     "start_time": "2022-09-01T10:35:50.805801",
     "status": "completed"
    },
    "tags": []
   },
   "source": [
    "Build a sample dataset containing similar distribution of normal transactions and the fraudulent transactions"
   ]
  },
  {
   "cell_type": "markdown",
   "id": "ea9a2d5a",
   "metadata": {
    "papermill": {
     "duration": 0.010997,
     "end_time": "2022-09-01T10:35:50.838518",
     "exception": false,
     "start_time": "2022-09-01T10:35:50.827521",
     "status": "completed"
    },
    "tags": []
   },
   "source": [
    "Number of fraudulent transaction --> 492"
   ]
  },
  {
   "cell_type": "code",
   "execution_count": 13,
   "id": "df98be0c",
   "metadata": {
    "execution": {
     "iopub.execute_input": "2022-09-01T10:35:50.865358Z",
     "iopub.status.busy": "2022-09-01T10:35:50.864542Z",
     "iopub.status.idle": "2022-09-01T10:35:50.882210Z",
     "shell.execute_reply": "2022-09-01T10:35:50.881207Z"
    },
    "papermill": {
     "duration": 0.035039,
     "end_time": "2022-09-01T10:35:50.885285",
     "exception": false,
     "start_time": "2022-09-01T10:35:50.850246",
     "status": "completed"
    },
    "tags": []
   },
   "outputs": [],
   "source": [
    "legit_sample = legit.sample(n=4000)"
   ]
  },
  {
   "cell_type": "markdown",
   "id": "74909921",
   "metadata": {
    "papermill": {
     "duration": 0.011159,
     "end_time": "2022-09-01T10:35:50.909063",
     "exception": false,
     "start_time": "2022-09-01T10:35:50.897904",
     "status": "completed"
    },
    "tags": []
   },
   "source": [
    "Concatenating two data frames"
   ]
  },
  {
   "cell_type": "code",
   "execution_count": 14,
   "id": "51205da4",
   "metadata": {
    "execution": {
     "iopub.execute_input": "2022-09-01T10:35:50.934834Z",
     "iopub.status.busy": "2022-09-01T10:35:50.934034Z",
     "iopub.status.idle": "2022-09-01T10:35:50.942889Z",
     "shell.execute_reply": "2022-09-01T10:35:50.941742Z"
    },
    "papermill": {
     "duration": 0.025884,
     "end_time": "2022-09-01T10:35:50.945976",
     "exception": false,
     "start_time": "2022-09-01T10:35:50.920092",
     "status": "completed"
    },
    "tags": []
   },
   "outputs": [],
   "source": [
    "new_dataset = pd.concat([legit_sample, fraud], axis = 0)"
   ]
  },
  {
   "cell_type": "code",
   "execution_count": 15,
   "id": "8f08f6c3",
   "metadata": {
    "execution": {
     "iopub.execute_input": "2022-09-01T10:35:50.971002Z",
     "iopub.status.busy": "2022-09-01T10:35:50.970546Z",
     "iopub.status.idle": "2022-09-01T10:35:50.998645Z",
     "shell.execute_reply": "2022-09-01T10:35:50.997421Z"
    },
    "papermill": {
     "duration": 0.043354,
     "end_time": "2022-09-01T10:35:51.001159",
     "exception": false,
     "start_time": "2022-09-01T10:35:50.957805",
     "status": "completed"
    },
    "tags": []
   },
   "outputs": [
    {
     "data": {
      "text/html": [
       "<div>\n",
       "<style scoped>\n",
       "    .dataframe tbody tr th:only-of-type {\n",
       "        vertical-align: middle;\n",
       "    }\n",
       "\n",
       "    .dataframe tbody tr th {\n",
       "        vertical-align: top;\n",
       "    }\n",
       "\n",
       "    .dataframe thead th {\n",
       "        text-align: right;\n",
       "    }\n",
       "</style>\n",
       "<table border=\"1\" class=\"dataframe\">\n",
       "  <thead>\n",
       "    <tr style=\"text-align: right;\">\n",
       "      <th></th>\n",
       "      <th>Time</th>\n",
       "      <th>V1</th>\n",
       "      <th>V2</th>\n",
       "      <th>V3</th>\n",
       "      <th>V4</th>\n",
       "      <th>V5</th>\n",
       "      <th>V6</th>\n",
       "      <th>V7</th>\n",
       "      <th>V8</th>\n",
       "      <th>V9</th>\n",
       "      <th>...</th>\n",
       "      <th>V21</th>\n",
       "      <th>V22</th>\n",
       "      <th>V23</th>\n",
       "      <th>V24</th>\n",
       "      <th>V25</th>\n",
       "      <th>V26</th>\n",
       "      <th>V27</th>\n",
       "      <th>V28</th>\n",
       "      <th>Amount</th>\n",
       "      <th>Class</th>\n",
       "    </tr>\n",
       "  </thead>\n",
       "  <tbody>\n",
       "    <tr>\n",
       "      <th>205808</th>\n",
       "      <td>135923.0</td>\n",
       "      <td>-1.771274</td>\n",
       "      <td>-2.299397</td>\n",
       "      <td>-1.551076</td>\n",
       "      <td>0.194745</td>\n",
       "      <td>-3.343334</td>\n",
       "      <td>0.948042</td>\n",
       "      <td>4.129564</td>\n",
       "      <td>-0.115474</td>\n",
       "      <td>-0.178527</td>\n",
       "      <td>...</td>\n",
       "      <td>0.533899</td>\n",
       "      <td>-0.328876</td>\n",
       "      <td>3.255232</td>\n",
       "      <td>-0.077435</td>\n",
       "      <td>-2.001034</td>\n",
       "      <td>-0.261724</td>\n",
       "      <td>-0.167005</td>\n",
       "      <td>0.386589</td>\n",
       "      <td>1128.90</td>\n",
       "      <td>0</td>\n",
       "    </tr>\n",
       "    <tr>\n",
       "      <th>258041</th>\n",
       "      <td>158462.0</td>\n",
       "      <td>2.000960</td>\n",
       "      <td>-0.421452</td>\n",
       "      <td>-1.546609</td>\n",
       "      <td>0.662756</td>\n",
       "      <td>-0.081654</td>\n",
       "      <td>-0.882278</td>\n",
       "      <td>0.251949</td>\n",
       "      <td>-0.366593</td>\n",
       "      <td>-1.210628</td>\n",
       "      <td>...</td>\n",
       "      <td>-0.222464</td>\n",
       "      <td>-0.072113</td>\n",
       "      <td>0.020565</td>\n",
       "      <td>0.058338</td>\n",
       "      <td>0.321391</td>\n",
       "      <td>-0.523608</td>\n",
       "      <td>-0.001315</td>\n",
       "      <td>-0.055772</td>\n",
       "      <td>59.93</td>\n",
       "      <td>0</td>\n",
       "    </tr>\n",
       "    <tr>\n",
       "      <th>94050</th>\n",
       "      <td>64707.0</td>\n",
       "      <td>-1.252109</td>\n",
       "      <td>0.672369</td>\n",
       "      <td>0.684181</td>\n",
       "      <td>3.128239</td>\n",
       "      <td>0.181884</td>\n",
       "      <td>-0.626803</td>\n",
       "      <td>0.533468</td>\n",
       "      <td>0.311346</td>\n",
       "      <td>-1.759888</td>\n",
       "      <td>...</td>\n",
       "      <td>0.227382</td>\n",
       "      <td>0.212463</td>\n",
       "      <td>0.242695</td>\n",
       "      <td>0.401141</td>\n",
       "      <td>-0.360562</td>\n",
       "      <td>0.151614</td>\n",
       "      <td>0.258954</td>\n",
       "      <td>0.061846</td>\n",
       "      <td>126.77</td>\n",
       "      <td>0</td>\n",
       "    </tr>\n",
       "    <tr>\n",
       "      <th>78475</th>\n",
       "      <td>57545.0</td>\n",
       "      <td>1.177076</td>\n",
       "      <td>0.578651</td>\n",
       "      <td>-0.376805</td>\n",
       "      <td>1.066586</td>\n",
       "      <td>0.454467</td>\n",
       "      <td>-0.208963</td>\n",
       "      <td>0.125942</td>\n",
       "      <td>0.048391</td>\n",
       "      <td>-0.359636</td>\n",
       "      <td>...</td>\n",
       "      <td>0.008581</td>\n",
       "      <td>0.107824</td>\n",
       "      <td>-0.145692</td>\n",
       "      <td>-0.410072</td>\n",
       "      <td>0.640612</td>\n",
       "      <td>-0.295782</td>\n",
       "      <td>0.045736</td>\n",
       "      <td>0.034862</td>\n",
       "      <td>1.00</td>\n",
       "      <td>0</td>\n",
       "    </tr>\n",
       "    <tr>\n",
       "      <th>128338</th>\n",
       "      <td>78675.0</td>\n",
       "      <td>1.565974</td>\n",
       "      <td>-1.114122</td>\n",
       "      <td>-0.275729</td>\n",
       "      <td>-1.820148</td>\n",
       "      <td>-0.671308</td>\n",
       "      <td>0.340886</td>\n",
       "      <td>-1.064889</td>\n",
       "      <td>-0.012560</td>\n",
       "      <td>-1.986840</td>\n",
       "      <td>...</td>\n",
       "      <td>-0.058618</td>\n",
       "      <td>0.216236</td>\n",
       "      <td>-0.339553</td>\n",
       "      <td>-1.364265</td>\n",
       "      <td>0.760436</td>\n",
       "      <td>0.090871</td>\n",
       "      <td>0.024850</td>\n",
       "      <td>-0.005953</td>\n",
       "      <td>31.00</td>\n",
       "      <td>0</td>\n",
       "    </tr>\n",
       "  </tbody>\n",
       "</table>\n",
       "<p>5 rows × 31 columns</p>\n",
       "</div>"
      ],
      "text/plain": [
       "            Time        V1        V2        V3        V4        V5        V6  \\\n",
       "205808  135923.0 -1.771274 -2.299397 -1.551076  0.194745 -3.343334  0.948042   \n",
       "258041  158462.0  2.000960 -0.421452 -1.546609  0.662756 -0.081654 -0.882278   \n",
       "94050    64707.0 -1.252109  0.672369  0.684181  3.128239  0.181884 -0.626803   \n",
       "78475    57545.0  1.177076  0.578651 -0.376805  1.066586  0.454467 -0.208963   \n",
       "128338   78675.0  1.565974 -1.114122 -0.275729 -1.820148 -0.671308  0.340886   \n",
       "\n",
       "              V7        V8        V9  ...       V21       V22       V23  \\\n",
       "205808  4.129564 -0.115474 -0.178527  ...  0.533899 -0.328876  3.255232   \n",
       "258041  0.251949 -0.366593 -1.210628  ... -0.222464 -0.072113  0.020565   \n",
       "94050   0.533468  0.311346 -1.759888  ...  0.227382  0.212463  0.242695   \n",
       "78475   0.125942  0.048391 -0.359636  ...  0.008581  0.107824 -0.145692   \n",
       "128338 -1.064889 -0.012560 -1.986840  ... -0.058618  0.216236 -0.339553   \n",
       "\n",
       "             V24       V25       V26       V27       V28   Amount  Class  \n",
       "205808 -0.077435 -2.001034 -0.261724 -0.167005  0.386589  1128.90      0  \n",
       "258041  0.058338  0.321391 -0.523608 -0.001315 -0.055772    59.93      0  \n",
       "94050   0.401141 -0.360562  0.151614  0.258954  0.061846   126.77      0  \n",
       "78475  -0.410072  0.640612 -0.295782  0.045736  0.034862     1.00      0  \n",
       "128338 -1.364265  0.760436  0.090871  0.024850 -0.005953    31.00      0  \n",
       "\n",
       "[5 rows x 31 columns]"
      ]
     },
     "execution_count": 15,
     "metadata": {},
     "output_type": "execute_result"
    }
   ],
   "source": [
    "new_dataset.head()"
   ]
  },
  {
   "cell_type": "code",
   "execution_count": 16,
   "id": "f40728aa",
   "metadata": {
    "execution": {
     "iopub.execute_input": "2022-09-01T10:35:51.026528Z",
     "iopub.status.busy": "2022-09-01T10:35:51.025480Z",
     "iopub.status.idle": "2022-09-01T10:35:51.053964Z",
     "shell.execute_reply": "2022-09-01T10:35:51.052664Z"
    },
    "papermill": {
     "duration": 0.043956,
     "end_time": "2022-09-01T10:35:51.056867",
     "exception": false,
     "start_time": "2022-09-01T10:35:51.012911",
     "status": "completed"
    },
    "tags": []
   },
   "outputs": [
    {
     "data": {
      "text/html": [
       "<div>\n",
       "<style scoped>\n",
       "    .dataframe tbody tr th:only-of-type {\n",
       "        vertical-align: middle;\n",
       "    }\n",
       "\n",
       "    .dataframe tbody tr th {\n",
       "        vertical-align: top;\n",
       "    }\n",
       "\n",
       "    .dataframe thead th {\n",
       "        text-align: right;\n",
       "    }\n",
       "</style>\n",
       "<table border=\"1\" class=\"dataframe\">\n",
       "  <thead>\n",
       "    <tr style=\"text-align: right;\">\n",
       "      <th></th>\n",
       "      <th>Time</th>\n",
       "      <th>V1</th>\n",
       "      <th>V2</th>\n",
       "      <th>V3</th>\n",
       "      <th>V4</th>\n",
       "      <th>V5</th>\n",
       "      <th>V6</th>\n",
       "      <th>V7</th>\n",
       "      <th>V8</th>\n",
       "      <th>V9</th>\n",
       "      <th>...</th>\n",
       "      <th>V21</th>\n",
       "      <th>V22</th>\n",
       "      <th>V23</th>\n",
       "      <th>V24</th>\n",
       "      <th>V25</th>\n",
       "      <th>V26</th>\n",
       "      <th>V27</th>\n",
       "      <th>V28</th>\n",
       "      <th>Amount</th>\n",
       "      <th>Class</th>\n",
       "    </tr>\n",
       "  </thead>\n",
       "  <tbody>\n",
       "    <tr>\n",
       "      <th>279863</th>\n",
       "      <td>169142.0</td>\n",
       "      <td>-1.927883</td>\n",
       "      <td>1.125653</td>\n",
       "      <td>-4.518331</td>\n",
       "      <td>1.749293</td>\n",
       "      <td>-1.566487</td>\n",
       "      <td>-2.010494</td>\n",
       "      <td>-0.882850</td>\n",
       "      <td>0.697211</td>\n",
       "      <td>-2.064945</td>\n",
       "      <td>...</td>\n",
       "      <td>0.778584</td>\n",
       "      <td>-0.319189</td>\n",
       "      <td>0.639419</td>\n",
       "      <td>-0.294885</td>\n",
       "      <td>0.537503</td>\n",
       "      <td>0.788395</td>\n",
       "      <td>0.292680</td>\n",
       "      <td>0.147968</td>\n",
       "      <td>390.00</td>\n",
       "      <td>1</td>\n",
       "    </tr>\n",
       "    <tr>\n",
       "      <th>280143</th>\n",
       "      <td>169347.0</td>\n",
       "      <td>1.378559</td>\n",
       "      <td>1.289381</td>\n",
       "      <td>-5.004247</td>\n",
       "      <td>1.411850</td>\n",
       "      <td>0.442581</td>\n",
       "      <td>-1.326536</td>\n",
       "      <td>-1.413170</td>\n",
       "      <td>0.248525</td>\n",
       "      <td>-1.127396</td>\n",
       "      <td>...</td>\n",
       "      <td>0.370612</td>\n",
       "      <td>0.028234</td>\n",
       "      <td>-0.145640</td>\n",
       "      <td>-0.081049</td>\n",
       "      <td>0.521875</td>\n",
       "      <td>0.739467</td>\n",
       "      <td>0.389152</td>\n",
       "      <td>0.186637</td>\n",
       "      <td>0.76</td>\n",
       "      <td>1</td>\n",
       "    </tr>\n",
       "    <tr>\n",
       "      <th>280149</th>\n",
       "      <td>169351.0</td>\n",
       "      <td>-0.676143</td>\n",
       "      <td>1.126366</td>\n",
       "      <td>-2.213700</td>\n",
       "      <td>0.468308</td>\n",
       "      <td>-1.120541</td>\n",
       "      <td>-0.003346</td>\n",
       "      <td>-2.234739</td>\n",
       "      <td>1.210158</td>\n",
       "      <td>-0.652250</td>\n",
       "      <td>...</td>\n",
       "      <td>0.751826</td>\n",
       "      <td>0.834108</td>\n",
       "      <td>0.190944</td>\n",
       "      <td>0.032070</td>\n",
       "      <td>-0.739695</td>\n",
       "      <td>0.471111</td>\n",
       "      <td>0.385107</td>\n",
       "      <td>0.194361</td>\n",
       "      <td>77.89</td>\n",
       "      <td>1</td>\n",
       "    </tr>\n",
       "    <tr>\n",
       "      <th>281144</th>\n",
       "      <td>169966.0</td>\n",
       "      <td>-3.113832</td>\n",
       "      <td>0.585864</td>\n",
       "      <td>-5.399730</td>\n",
       "      <td>1.817092</td>\n",
       "      <td>-0.840618</td>\n",
       "      <td>-2.943548</td>\n",
       "      <td>-2.208002</td>\n",
       "      <td>1.058733</td>\n",
       "      <td>-1.632333</td>\n",
       "      <td>...</td>\n",
       "      <td>0.583276</td>\n",
       "      <td>-0.269209</td>\n",
       "      <td>-0.456108</td>\n",
       "      <td>-0.183659</td>\n",
       "      <td>-0.328168</td>\n",
       "      <td>0.606116</td>\n",
       "      <td>0.884876</td>\n",
       "      <td>-0.253700</td>\n",
       "      <td>245.00</td>\n",
       "      <td>1</td>\n",
       "    </tr>\n",
       "    <tr>\n",
       "      <th>281674</th>\n",
       "      <td>170348.0</td>\n",
       "      <td>1.991976</td>\n",
       "      <td>0.158476</td>\n",
       "      <td>-2.583441</td>\n",
       "      <td>0.408670</td>\n",
       "      <td>1.151147</td>\n",
       "      <td>-0.096695</td>\n",
       "      <td>0.223050</td>\n",
       "      <td>-0.068384</td>\n",
       "      <td>0.577829</td>\n",
       "      <td>...</td>\n",
       "      <td>-0.164350</td>\n",
       "      <td>-0.295135</td>\n",
       "      <td>-0.072173</td>\n",
       "      <td>-0.450261</td>\n",
       "      <td>0.313267</td>\n",
       "      <td>-0.289617</td>\n",
       "      <td>0.002988</td>\n",
       "      <td>-0.015309</td>\n",
       "      <td>42.53</td>\n",
       "      <td>1</td>\n",
       "    </tr>\n",
       "  </tbody>\n",
       "</table>\n",
       "<p>5 rows × 31 columns</p>\n",
       "</div>"
      ],
      "text/plain": [
       "            Time        V1        V2        V3        V4        V5        V6  \\\n",
       "279863  169142.0 -1.927883  1.125653 -4.518331  1.749293 -1.566487 -2.010494   \n",
       "280143  169347.0  1.378559  1.289381 -5.004247  1.411850  0.442581 -1.326536   \n",
       "280149  169351.0 -0.676143  1.126366 -2.213700  0.468308 -1.120541 -0.003346   \n",
       "281144  169966.0 -3.113832  0.585864 -5.399730  1.817092 -0.840618 -2.943548   \n",
       "281674  170348.0  1.991976  0.158476 -2.583441  0.408670  1.151147 -0.096695   \n",
       "\n",
       "              V7        V8        V9  ...       V21       V22       V23  \\\n",
       "279863 -0.882850  0.697211 -2.064945  ...  0.778584 -0.319189  0.639419   \n",
       "280143 -1.413170  0.248525 -1.127396  ...  0.370612  0.028234 -0.145640   \n",
       "280149 -2.234739  1.210158 -0.652250  ...  0.751826  0.834108  0.190944   \n",
       "281144 -2.208002  1.058733 -1.632333  ...  0.583276 -0.269209 -0.456108   \n",
       "281674  0.223050 -0.068384  0.577829  ... -0.164350 -0.295135 -0.072173   \n",
       "\n",
       "             V24       V25       V26       V27       V28  Amount  Class  \n",
       "279863 -0.294885  0.537503  0.788395  0.292680  0.147968  390.00      1  \n",
       "280143 -0.081049  0.521875  0.739467  0.389152  0.186637    0.76      1  \n",
       "280149  0.032070 -0.739695  0.471111  0.385107  0.194361   77.89      1  \n",
       "281144 -0.183659 -0.328168  0.606116  0.884876 -0.253700  245.00      1  \n",
       "281674 -0.450261  0.313267 -0.289617  0.002988 -0.015309   42.53      1  \n",
       "\n",
       "[5 rows x 31 columns]"
      ]
     },
     "execution_count": 16,
     "metadata": {},
     "output_type": "execute_result"
    }
   ],
   "source": [
    "new_dataset.tail()"
   ]
  },
  {
   "cell_type": "code",
   "execution_count": 17,
   "id": "9cbe696b",
   "metadata": {
    "execution": {
     "iopub.execute_input": "2022-09-01T10:35:51.080426Z",
     "iopub.status.busy": "2022-09-01T10:35:51.080013Z",
     "iopub.status.idle": "2022-09-01T10:35:51.089270Z",
     "shell.execute_reply": "2022-09-01T10:35:51.088317Z"
    },
    "papermill": {
     "duration": 0.023742,
     "end_time": "2022-09-01T10:35:51.091662",
     "exception": false,
     "start_time": "2022-09-01T10:35:51.067920",
     "status": "completed"
    },
    "tags": []
   },
   "outputs": [
    {
     "data": {
      "text/plain": [
       "0    4000\n",
       "1     492\n",
       "Name: Class, dtype: int64"
      ]
     },
     "execution_count": 17,
     "metadata": {},
     "output_type": "execute_result"
    }
   ],
   "source": [
    "new_dataset['Class'].value_counts()"
   ]
  },
  {
   "cell_type": "code",
   "execution_count": 18,
   "id": "3d487f62",
   "metadata": {
    "execution": {
     "iopub.execute_input": "2022-09-01T10:35:51.116608Z",
     "iopub.status.busy": "2022-09-01T10:35:51.115805Z",
     "iopub.status.idle": "2022-09-01T10:35:51.141659Z",
     "shell.execute_reply": "2022-09-01T10:35:51.140486Z"
    },
    "papermill": {
     "duration": 0.041508,
     "end_time": "2022-09-01T10:35:51.144538",
     "exception": false,
     "start_time": "2022-09-01T10:35:51.103030",
     "status": "completed"
    },
    "tags": []
   },
   "outputs": [
    {
     "data": {
      "text/html": [
       "<div>\n",
       "<style scoped>\n",
       "    .dataframe tbody tr th:only-of-type {\n",
       "        vertical-align: middle;\n",
       "    }\n",
       "\n",
       "    .dataframe tbody tr th {\n",
       "        vertical-align: top;\n",
       "    }\n",
       "\n",
       "    .dataframe thead th {\n",
       "        text-align: right;\n",
       "    }\n",
       "</style>\n",
       "<table border=\"1\" class=\"dataframe\">\n",
       "  <thead>\n",
       "    <tr style=\"text-align: right;\">\n",
       "      <th></th>\n",
       "      <th>Time</th>\n",
       "      <th>V1</th>\n",
       "      <th>V2</th>\n",
       "      <th>V3</th>\n",
       "      <th>V4</th>\n",
       "      <th>V5</th>\n",
       "      <th>V6</th>\n",
       "      <th>V7</th>\n",
       "      <th>V8</th>\n",
       "      <th>V9</th>\n",
       "      <th>...</th>\n",
       "      <th>V20</th>\n",
       "      <th>V21</th>\n",
       "      <th>V22</th>\n",
       "      <th>V23</th>\n",
       "      <th>V24</th>\n",
       "      <th>V25</th>\n",
       "      <th>V26</th>\n",
       "      <th>V27</th>\n",
       "      <th>V28</th>\n",
       "      <th>Amount</th>\n",
       "    </tr>\n",
       "    <tr>\n",
       "      <th>Class</th>\n",
       "      <th></th>\n",
       "      <th></th>\n",
       "      <th></th>\n",
       "      <th></th>\n",
       "      <th></th>\n",
       "      <th></th>\n",
       "      <th></th>\n",
       "      <th></th>\n",
       "      <th></th>\n",
       "      <th></th>\n",
       "      <th></th>\n",
       "      <th></th>\n",
       "      <th></th>\n",
       "      <th></th>\n",
       "      <th></th>\n",
       "      <th></th>\n",
       "      <th></th>\n",
       "      <th></th>\n",
       "      <th></th>\n",
       "      <th></th>\n",
       "      <th></th>\n",
       "    </tr>\n",
       "  </thead>\n",
       "  <tbody>\n",
       "    <tr>\n",
       "      <th>0</th>\n",
       "      <td>95410.032500</td>\n",
       "      <td>0.019741</td>\n",
       "      <td>0.006195</td>\n",
       "      <td>0.024053</td>\n",
       "      <td>-0.021258</td>\n",
       "      <td>-0.016627</td>\n",
       "      <td>-0.007743</td>\n",
       "      <td>-0.009194</td>\n",
       "      <td>0.006897</td>\n",
       "      <td>-0.003183</td>\n",
       "      <td>...</td>\n",
       "      <td>-0.000223</td>\n",
       "      <td>-0.004223</td>\n",
       "      <td>0.018118</td>\n",
       "      <td>0.013995</td>\n",
       "      <td>-0.003015</td>\n",
       "      <td>-0.006526</td>\n",
       "      <td>-0.012467</td>\n",
       "      <td>0.002155</td>\n",
       "      <td>0.002887</td>\n",
       "      <td>85.643185</td>\n",
       "    </tr>\n",
       "    <tr>\n",
       "      <th>1</th>\n",
       "      <td>80746.806911</td>\n",
       "      <td>-4.771948</td>\n",
       "      <td>3.623778</td>\n",
       "      <td>-7.033281</td>\n",
       "      <td>4.542029</td>\n",
       "      <td>-3.151225</td>\n",
       "      <td>-1.397737</td>\n",
       "      <td>-5.568731</td>\n",
       "      <td>0.570636</td>\n",
       "      <td>-2.581123</td>\n",
       "      <td>...</td>\n",
       "      <td>0.372319</td>\n",
       "      <td>0.713588</td>\n",
       "      <td>0.014049</td>\n",
       "      <td>-0.040308</td>\n",
       "      <td>-0.105130</td>\n",
       "      <td>0.041449</td>\n",
       "      <td>0.051648</td>\n",
       "      <td>0.170575</td>\n",
       "      <td>0.075667</td>\n",
       "      <td>122.211321</td>\n",
       "    </tr>\n",
       "  </tbody>\n",
       "</table>\n",
       "<p>2 rows × 30 columns</p>\n",
       "</div>"
      ],
      "text/plain": [
       "               Time        V1        V2        V3        V4        V5  \\\n",
       "Class                                                                   \n",
       "0      95410.032500  0.019741  0.006195  0.024053 -0.021258 -0.016627   \n",
       "1      80746.806911 -4.771948  3.623778 -7.033281  4.542029 -3.151225   \n",
       "\n",
       "             V6        V7        V8        V9  ...       V20       V21  \\\n",
       "Class                                          ...                       \n",
       "0     -0.007743 -0.009194  0.006897 -0.003183  ... -0.000223 -0.004223   \n",
       "1     -1.397737 -5.568731  0.570636 -2.581123  ...  0.372319  0.713588   \n",
       "\n",
       "            V22       V23       V24       V25       V26       V27       V28  \\\n",
       "Class                                                                         \n",
       "0      0.018118  0.013995 -0.003015 -0.006526 -0.012467  0.002155  0.002887   \n",
       "1      0.014049 -0.040308 -0.105130  0.041449  0.051648  0.170575  0.075667   \n",
       "\n",
       "           Amount  \n",
       "Class              \n",
       "0       85.643185  \n",
       "1      122.211321  \n",
       "\n",
       "[2 rows x 30 columns]"
      ]
     },
     "execution_count": 18,
     "metadata": {},
     "output_type": "execute_result"
    }
   ],
   "source": [
    "new_dataset.groupby('Class').mean()"
   ]
  },
  {
   "cell_type": "markdown",
   "id": "f691f784",
   "metadata": {
    "papermill": {
     "duration": 0.01142,
     "end_time": "2022-09-01T10:35:51.167454",
     "exception": false,
     "start_time": "2022-09-01T10:35:51.156034",
     "status": "completed"
    },
    "tags": []
   },
   "source": [
    "Splitting the data into Features & Targets"
   ]
  },
  {
   "cell_type": "code",
   "execution_count": 19,
   "id": "b8269cae",
   "metadata": {
    "execution": {
     "iopub.execute_input": "2022-09-01T10:35:51.192541Z",
     "iopub.status.busy": "2022-09-01T10:35:51.192108Z",
     "iopub.status.idle": "2022-09-01T10:35:51.200400Z",
     "shell.execute_reply": "2022-09-01T10:35:51.199438Z"
    },
    "papermill": {
     "duration": 0.024103,
     "end_time": "2022-09-01T10:35:51.203018",
     "exception": false,
     "start_time": "2022-09-01T10:35:51.178915",
     "status": "completed"
    },
    "tags": []
   },
   "outputs": [],
   "source": [
    "X = new_dataset.drop(columns = 'Class',axis = 1)\n",
    "Y = new_dataset['Class']"
   ]
  },
  {
   "cell_type": "code",
   "execution_count": 20,
   "id": "e893a422",
   "metadata": {
    "execution": {
     "iopub.execute_input": "2022-09-01T10:35:51.228041Z",
     "iopub.status.busy": "2022-09-01T10:35:51.227026Z",
     "iopub.status.idle": "2022-09-01T10:35:51.246827Z",
     "shell.execute_reply": "2022-09-01T10:35:51.245118Z"
    },
    "papermill": {
     "duration": 0.035652,
     "end_time": "2022-09-01T10:35:51.250080",
     "exception": false,
     "start_time": "2022-09-01T10:35:51.214428",
     "status": "completed"
    },
    "tags": []
   },
   "outputs": [
    {
     "name": "stdout",
     "output_type": "stream",
     "text": [
      "            Time        V1        V2        V3        V4        V5        V6  \\\n",
      "205808  135923.0 -1.771274 -2.299397 -1.551076  0.194745 -3.343334  0.948042   \n",
      "258041  158462.0  2.000960 -0.421452 -1.546609  0.662756 -0.081654 -0.882278   \n",
      "94050    64707.0 -1.252109  0.672369  0.684181  3.128239  0.181884 -0.626803   \n",
      "78475    57545.0  1.177076  0.578651 -0.376805  1.066586  0.454467 -0.208963   \n",
      "128338   78675.0  1.565974 -1.114122 -0.275729 -1.820148 -0.671308  0.340886   \n",
      "...          ...       ...       ...       ...       ...       ...       ...   \n",
      "279863  169142.0 -1.927883  1.125653 -4.518331  1.749293 -1.566487 -2.010494   \n",
      "280143  169347.0  1.378559  1.289381 -5.004247  1.411850  0.442581 -1.326536   \n",
      "280149  169351.0 -0.676143  1.126366 -2.213700  0.468308 -1.120541 -0.003346   \n",
      "281144  169966.0 -3.113832  0.585864 -5.399730  1.817092 -0.840618 -2.943548   \n",
      "281674  170348.0  1.991976  0.158476 -2.583441  0.408670  1.151147 -0.096695   \n",
      "\n",
      "              V7        V8        V9  ...       V20       V21       V22  \\\n",
      "205808  4.129564 -0.115474 -0.178527  ...  2.168252  0.533899 -0.328876   \n",
      "258041  0.251949 -0.366593 -1.210628  ... -0.551626 -0.222464 -0.072113   \n",
      "94050   0.533468  0.311346 -1.759888  ...  0.636297  0.227382  0.212463   \n",
      "78475   0.125942  0.048391 -0.359636  ... -0.099875  0.008581  0.107824   \n",
      "128338 -1.064889 -0.012560 -1.986840  ... -0.201271 -0.058618  0.216236   \n",
      "...          ...       ...       ...  ...       ...       ...       ...   \n",
      "279863 -0.882850  0.697211 -2.064945  ...  1.252967  0.778584 -0.319189   \n",
      "280143 -1.413170  0.248525 -1.127396  ...  0.226138  0.370612  0.028234   \n",
      "280149 -2.234739  1.210158 -0.652250  ...  0.247968  0.751826  0.834108   \n",
      "281144 -2.208002  1.058733 -1.632333  ...  0.306271  0.583276 -0.269209   \n",
      "281674  0.223050 -0.068384  0.577829  ... -0.017652 -0.164350 -0.295135   \n",
      "\n",
      "             V23       V24       V25       V26       V27       V28   Amount  \n",
      "205808  3.255232 -0.077435 -2.001034 -0.261724 -0.167005  0.386589  1128.90  \n",
      "258041  0.020565  0.058338  0.321391 -0.523608 -0.001315 -0.055772    59.93  \n",
      "94050   0.242695  0.401141 -0.360562  0.151614  0.258954  0.061846   126.77  \n",
      "78475  -0.145692 -0.410072  0.640612 -0.295782  0.045736  0.034862     1.00  \n",
      "128338 -0.339553 -1.364265  0.760436  0.090871  0.024850 -0.005953    31.00  \n",
      "...          ...       ...       ...       ...       ...       ...      ...  \n",
      "279863  0.639419 -0.294885  0.537503  0.788395  0.292680  0.147968   390.00  \n",
      "280143 -0.145640 -0.081049  0.521875  0.739467  0.389152  0.186637     0.76  \n",
      "280149  0.190944  0.032070 -0.739695  0.471111  0.385107  0.194361    77.89  \n",
      "281144 -0.456108 -0.183659 -0.328168  0.606116  0.884876 -0.253700   245.00  \n",
      "281674 -0.072173 -0.450261  0.313267 -0.289617  0.002988 -0.015309    42.53  \n",
      "\n",
      "[4492 rows x 30 columns]\n"
     ]
    }
   ],
   "source": [
    "print(X)"
   ]
  },
  {
   "cell_type": "code",
   "execution_count": 21,
   "id": "339bdd8f",
   "metadata": {
    "execution": {
     "iopub.execute_input": "2022-09-01T10:35:51.276828Z",
     "iopub.status.busy": "2022-09-01T10:35:51.275761Z",
     "iopub.status.idle": "2022-09-01T10:35:51.283058Z",
     "shell.execute_reply": "2022-09-01T10:35:51.281761Z"
    },
    "papermill": {
     "duration": 0.024796,
     "end_time": "2022-09-01T10:35:51.286978",
     "exception": false,
     "start_time": "2022-09-01T10:35:51.262182",
     "status": "completed"
    },
    "tags": []
   },
   "outputs": [
    {
     "name": "stdout",
     "output_type": "stream",
     "text": [
      "205808    0\n",
      "258041    0\n",
      "94050     0\n",
      "78475     0\n",
      "128338    0\n",
      "         ..\n",
      "279863    1\n",
      "280143    1\n",
      "280149    1\n",
      "281144    1\n",
      "281674    1\n",
      "Name: Class, Length: 4492, dtype: int64\n"
     ]
    }
   ],
   "source": [
    "print(Y)"
   ]
  },
  {
   "cell_type": "markdown",
   "id": "8ac056ab",
   "metadata": {
    "papermill": {
     "duration": 0.012647,
     "end_time": "2022-09-01T10:35:51.313354",
     "exception": false,
     "start_time": "2022-09-01T10:35:51.300707",
     "status": "completed"
    },
    "tags": []
   },
   "source": [
    "To split the data into training and testing data"
   ]
  },
  {
   "cell_type": "code",
   "execution_count": 22,
   "id": "ba760ece",
   "metadata": {
    "execution": {
     "iopub.execute_input": "2022-09-01T10:35:51.340393Z",
     "iopub.status.busy": "2022-09-01T10:35:51.339772Z",
     "iopub.status.idle": "2022-09-01T10:35:51.350840Z",
     "shell.execute_reply": "2022-09-01T10:35:51.349856Z"
    },
    "papermill": {
     "duration": 0.026765,
     "end_time": "2022-09-01T10:35:51.353328",
     "exception": false,
     "start_time": "2022-09-01T10:35:51.326563",
     "status": "completed"
    },
    "tags": []
   },
   "outputs": [],
   "source": [
    "X_train,X_test,Y_train,Y_test = train_test_split(X,Y,test_size = 0.2, stratify = Y, random_state = 2)\n"
   ]
  },
  {
   "cell_type": "code",
   "execution_count": 23,
   "id": "df52cc85",
   "metadata": {
    "execution": {
     "iopub.execute_input": "2022-09-01T10:35:51.382995Z",
     "iopub.status.busy": "2022-09-01T10:35:51.382237Z",
     "iopub.status.idle": "2022-09-01T10:35:51.387553Z",
     "shell.execute_reply": "2022-09-01T10:35:51.386673Z"
    },
    "papermill": {
     "duration": 0.023417,
     "end_time": "2022-09-01T10:35:51.390662",
     "exception": false,
     "start_time": "2022-09-01T10:35:51.367245",
     "status": "completed"
    },
    "tags": []
   },
   "outputs": [
    {
     "name": "stdout",
     "output_type": "stream",
     "text": [
      "(4492, 30) (3593, 30) (899, 30)\n"
     ]
    }
   ],
   "source": [
    "print(X.shape,X_train.shape,X_test.shape)"
   ]
  },
  {
   "cell_type": "markdown",
   "id": "264babcb",
   "metadata": {
    "papermill": {
     "duration": 0.012686,
     "end_time": "2022-09-01T10:35:51.417592",
     "exception": false,
     "start_time": "2022-09-01T10:35:51.404906",
     "status": "completed"
    },
    "tags": []
   },
   "source": [
    "Model Training"
   ]
  },
  {
   "cell_type": "markdown",
   "id": "62bb05f6",
   "metadata": {
    "papermill": {
     "duration": 0.011427,
     "end_time": "2022-09-01T10:35:51.441800",
     "exception": false,
     "start_time": "2022-09-01T10:35:51.430373",
     "status": "completed"
    },
    "tags": []
   },
   "source": [
    "Logistic Regression"
   ]
  },
  {
   "cell_type": "code",
   "execution_count": 24,
   "id": "bc855d0b",
   "metadata": {
    "execution": {
     "iopub.execute_input": "2022-09-01T10:35:51.468336Z",
     "iopub.status.busy": "2022-09-01T10:35:51.467074Z",
     "iopub.status.idle": "2022-09-01T10:35:51.472629Z",
     "shell.execute_reply": "2022-09-01T10:35:51.471801Z"
    },
    "papermill": {
     "duration": 0.021502,
     "end_time": "2022-09-01T10:35:51.475067",
     "exception": false,
     "start_time": "2022-09-01T10:35:51.453565",
     "status": "completed"
    },
    "tags": []
   },
   "outputs": [],
   "source": [
    "model = LogisticRegression()"
   ]
  },
  {
   "cell_type": "code",
   "execution_count": 25,
   "id": "30a1fcc5",
   "metadata": {
    "execution": {
     "iopub.execute_input": "2022-09-01T10:35:51.500957Z",
     "iopub.status.busy": "2022-09-01T10:35:51.500261Z",
     "iopub.status.idle": "2022-09-01T10:35:51.633148Z",
     "shell.execute_reply": "2022-09-01T10:35:51.631946Z"
    },
    "papermill": {
     "duration": 0.149947,
     "end_time": "2022-09-01T10:35:51.637235",
     "exception": false,
     "start_time": "2022-09-01T10:35:51.487288",
     "status": "completed"
    },
    "tags": []
   },
   "outputs": [
    {
     "data": {
      "text/plain": [
       "LogisticRegression()"
      ]
     },
     "execution_count": 25,
     "metadata": {},
     "output_type": "execute_result"
    }
   ],
   "source": [
    "model.fit(X_train,Y_train)"
   ]
  },
  {
   "cell_type": "markdown",
   "id": "bfde8230",
   "metadata": {
    "papermill": {
     "duration": 0.030361,
     "end_time": "2022-09-01T10:35:51.698213",
     "exception": false,
     "start_time": "2022-09-01T10:35:51.667852",
     "status": "completed"
    },
    "tags": []
   },
   "source": [
    "Model Evaluation"
   ]
  },
  {
   "cell_type": "markdown",
   "id": "637d9be2",
   "metadata": {
    "papermill": {
     "duration": 0.018779,
     "end_time": "2022-09-01T10:35:51.751386",
     "exception": false,
     "start_time": "2022-09-01T10:35:51.732607",
     "status": "completed"
    },
    "tags": []
   },
   "source": [
    "Accuracy Score"
   ]
  },
  {
   "cell_type": "code",
   "execution_count": 26,
   "id": "9be80e90",
   "metadata": {
    "execution": {
     "iopub.execute_input": "2022-09-01T10:35:51.778075Z",
     "iopub.status.busy": "2022-09-01T10:35:51.777424Z",
     "iopub.status.idle": "2022-09-01T10:35:51.795555Z",
     "shell.execute_reply": "2022-09-01T10:35:51.792178Z"
    },
    "papermill": {
     "duration": 0.037729,
     "end_time": "2022-09-01T10:35:51.801708",
     "exception": false,
     "start_time": "2022-09-01T10:35:51.763979",
     "status": "completed"
    },
    "tags": []
   },
   "outputs": [
    {
     "name": "stdout",
     "output_type": "stream",
     "text": [
      "Accuracy on training data :  0.9794043974394656\n"
     ]
    }
   ],
   "source": [
    "# accuracy on training data\n",
    "X_train_prediction = model.predict(X_train)\n",
    "training_data_accuracy = accuracy_score(X_train_prediction,Y_train)\n",
    "print(\"Accuracy on training data : \",training_data_accuracy)"
   ]
  },
  {
   "cell_type": "code",
   "execution_count": 27,
   "id": "b076fc5f",
   "metadata": {
    "execution": {
     "iopub.execute_input": "2022-09-01T10:35:51.867838Z",
     "iopub.status.busy": "2022-09-01T10:35:51.867114Z",
     "iopub.status.idle": "2022-09-01T10:35:51.893530Z",
     "shell.execute_reply": "2022-09-01T10:35:51.889498Z"
    },
    "papermill": {
     "duration": 0.067546,
     "end_time": "2022-09-01T10:35:51.900074",
     "exception": false,
     "start_time": "2022-09-01T10:35:51.832528",
     "status": "completed"
    },
    "tags": []
   },
   "outputs": [
    {
     "name": "stdout",
     "output_type": "stream",
     "text": [
      "Accuracy score on test data :  0.9710789766407119\n"
     ]
    }
   ],
   "source": [
    "# accuracy on test data\n",
    "X_test_prediction = model.predict(X_test)\n",
    "test_data_accuracy = accuracy_score(X_test_prediction,Y_test)\n",
    "print(\"Accuracy score on test data : \",test_data_accuracy)"
   ]
  }
 ],
 "metadata": {
  "kernelspec": {
   "display_name": "Python 3",
   "language": "python",
   "name": "python3"
  },
  "language_info": {
   "codemirror_mode": {
    "name": "ipython",
    "version": 3
   },
   "file_extension": ".py",
   "mimetype": "text/x-python",
   "name": "python",
   "nbconvert_exporter": "python",
   "pygments_lexer": "ipython3",
   "version": "3.7.12"
  },
  "papermill": {
   "default_parameters": {},
   "duration": 20.079089,
   "end_time": "2022-09-01T10:35:52.760524",
   "environment_variables": {},
   "exception": null,
   "input_path": "__notebook__.ipynb",
   "output_path": "__notebook__.ipynb",
   "parameters": {},
   "start_time": "2022-09-01T10:35:32.681435",
   "version": "2.3.4"
  }
 },
 "nbformat": 4,
 "nbformat_minor": 5
}
